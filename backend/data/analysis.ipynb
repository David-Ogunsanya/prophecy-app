{
 "cells": [
  {
   "cell_type": "code",
   "execution_count": 1,
   "metadata": {},
   "outputs": [],
   "source": [
    "import pandas as pd"
   ]
  },
  {
   "cell_type": "code",
   "execution_count": 2,
   "metadata": {},
   "outputs": [],
   "source": [
    "df = pd.read_csv('Daniel_7_2.csv')"
   ]
  },
  {
   "cell_type": "code",
   "execution_count": 3,
   "metadata": {},
   "outputs": [
    {
     "data": {
      "text/html": [
       "<div>\n",
       "<style scoped>\n",
       "    .dataframe tbody tr th:only-of-type {\n",
       "        vertical-align: middle;\n",
       "    }\n",
       "\n",
       "    .dataframe tbody tr th {\n",
       "        vertical-align: top;\n",
       "    }\n",
       "\n",
       "    .dataframe thead th {\n",
       "        text-align: right;\n",
       "    }\n",
       "</style>\n",
       "<table border=\"1\" class=\"dataframe\">\n",
       "  <thead>\n",
       "    <tr style=\"text-align: right;\">\n",
       "      <th></th>\n",
       "      <th>verses</th>\n",
       "      <th>symbol and intepretation</th>\n",
       "      <th>notes/explanation</th>\n",
       "    </tr>\n",
       "  </thead>\n",
       "  <tbody>\n",
       "    <tr>\n",
       "      <th>0</th>\n",
       "      <td>(Dan 7:3) And four great beasts came up from t...</td>\n",
       "      <td>Beast --&gt; Kingdoms (See Dan 7:23)\\nSea --&gt; Peo...</td>\n",
       "      <td>Daniel Saw Four great Kingdoms coming out of t...</td>\n",
       "    </tr>\n",
       "    <tr>\n",
       "      <th>1</th>\n",
       "      <td>(Dan 7:4) The first was like a lion, and had e...</td>\n",
       "      <td>Lion --&gt; Strong Nation, Fierce, Vicious, royal...</td>\n",
       "      <td>In Daniel 7:4, the Babylonian empire is depict...</td>\n",
       "    </tr>\n",
       "    <tr>\n",
       "      <th>2</th>\n",
       "      <td>(Dan 7:5) And behold another beast, a second, ...</td>\n",
       "      <td>Bear -&gt; Government, violent (See Lam 3:10, 2 S...</td>\n",
       "      <td>In Daniel 7:5, the Medo-Persian Empire is symb...</td>\n",
       "    </tr>\n",
       "    <tr>\n",
       "      <th>3</th>\n",
       "      <td>(Dan 7:6) After this I beheld, and lo another,...</td>\n",
       "      <td>Leopard -&gt; Government (See Jer 5:6, Hos 13:7)\\...</td>\n",
       "      <td>The third kingdom, Greece, is represented in D...</td>\n",
       "    </tr>\n",
       "    <tr>\n",
       "      <th>4</th>\n",
       "      <td>(Dan 7:7) After this I saw in the night vision...</td>\n",
       "      <td>Beast -&gt; Kingdom (See Dan 7:23) \\nIron -&gt; Stre...</td>\n",
       "      <td>The fourth beast in Daniel’s vision is unlike ...</td>\n",
       "    </tr>\n",
       "  </tbody>\n",
       "</table>\n",
       "</div>"
      ],
      "text/plain": [
       "                                              verses  \\\n",
       "0  (Dan 7:3) And four great beasts came up from t...   \n",
       "1  (Dan 7:4) The first was like a lion, and had e...   \n",
       "2  (Dan 7:5) And behold another beast, a second, ...   \n",
       "3  (Dan 7:6) After this I beheld, and lo another,...   \n",
       "4  (Dan 7:7) After this I saw in the night vision...   \n",
       "\n",
       "                            symbol and intepretation  \\\n",
       "0  Beast --> Kingdoms (See Dan 7:23)\\nSea --> Peo...   \n",
       "1  Lion --> Strong Nation, Fierce, Vicious, royal...   \n",
       "2  Bear -> Government, violent (See Lam 3:10, 2 S...   \n",
       "3  Leopard -> Government (See Jer 5:6, Hos 13:7)\\...   \n",
       "4  Beast -> Kingdom (See Dan 7:23) \\nIron -> Stre...   \n",
       "\n",
       "                                   notes/explanation  \n",
       "0  Daniel Saw Four great Kingdoms coming out of t...  \n",
       "1  In Daniel 7:4, the Babylonian empire is depict...  \n",
       "2  In Daniel 7:5, the Medo-Persian Empire is symb...  \n",
       "3  The third kingdom, Greece, is represented in D...  \n",
       "4  The fourth beast in Daniel’s vision is unlike ...  "
      ]
     },
     "execution_count": 3,
     "metadata": {},
     "output_type": "execute_result"
    }
   ],
   "source": [
    "df.head()"
   ]
  },
  {
   "cell_type": "code",
   "execution_count": 4,
   "metadata": {},
   "outputs": [
    {
     "data": {
      "text/html": [
       "<div>\n",
       "<style scoped>\n",
       "    .dataframe tbody tr th:only-of-type {\n",
       "        vertical-align: middle;\n",
       "    }\n",
       "\n",
       "    .dataframe tbody tr th {\n",
       "        vertical-align: top;\n",
       "    }\n",
       "\n",
       "    .dataframe thead th {\n",
       "        text-align: right;\n",
       "    }\n",
       "</style>\n",
       "<table border=\"1\" class=\"dataframe\">\n",
       "  <thead>\n",
       "    <tr style=\"text-align: right;\">\n",
       "      <th></th>\n",
       "      <th>verses</th>\n",
       "      <th>symbol and intepretation</th>\n",
       "      <th>notes/explanation</th>\n",
       "    </tr>\n",
       "  </thead>\n",
       "  <tbody>\n",
       "    <tr>\n",
       "      <th>count</th>\n",
       "      <td>15</td>\n",
       "      <td>14</td>\n",
       "      <td>14</td>\n",
       "    </tr>\n",
       "    <tr>\n",
       "      <th>unique</th>\n",
       "      <td>15</td>\n",
       "      <td>14</td>\n",
       "      <td>14</td>\n",
       "    </tr>\n",
       "    <tr>\n",
       "      <th>top</th>\n",
       "      <td>(Dan 7:3) And four great beasts came up from t...</td>\n",
       "      <td>Beast --&gt; Kingdoms (See Dan 7:23)\\nSea --&gt; Peo...</td>\n",
       "      <td>Daniel Saw Four great Kingdoms coming out of t...</td>\n",
       "    </tr>\n",
       "    <tr>\n",
       "      <th>freq</th>\n",
       "      <td>1</td>\n",
       "      <td>1</td>\n",
       "      <td>1</td>\n",
       "    </tr>\n",
       "  </tbody>\n",
       "</table>\n",
       "</div>"
      ],
      "text/plain": [
       "                                                   verses  \\\n",
       "count                                                  15   \n",
       "unique                                                 15   \n",
       "top     (Dan 7:3) And four great beasts came up from t...   \n",
       "freq                                                    1   \n",
       "\n",
       "                                 symbol and intepretation  \\\n",
       "count                                                  14   \n",
       "unique                                                 14   \n",
       "top     Beast --> Kingdoms (See Dan 7:23)\\nSea --> Peo...   \n",
       "freq                                                    1   \n",
       "\n",
       "                                        notes/explanation  \n",
       "count                                                  14  \n",
       "unique                                                 14  \n",
       "top     Daniel Saw Four great Kingdoms coming out of t...  \n",
       "freq                                                    1  "
      ]
     },
     "execution_count": 4,
     "metadata": {},
     "output_type": "execute_result"
    }
   ],
   "source": [
    "df.describe()"
   ]
  },
  {
   "cell_type": "code",
   "execution_count": null,
   "metadata": {},
   "outputs": [
    {
     "data": {
      "text/plain": [
       "0    (Dan 7:3) And four great beasts came up from t...\n",
       "Name: verses, dtype: object"
      ]
     },
     "execution_count": 14,
     "metadata": {},
     "output_type": "execute_result"
    }
   ],
   "source": []
  },
  {
   "cell_type": "code",
   "execution_count": null,
   "metadata": {},
   "outputs": [],
   "source": []
  }
 ],
 "metadata": {
  "kernelspec": {
   "display_name": "learning_html_environment",
   "language": "python",
   "name": "python3"
  },
  "language_info": {
   "codemirror_mode": {
    "name": "ipython",
    "version": 3
   },
   "file_extension": ".py",
   "mimetype": "text/x-python",
   "name": "python",
   "nbconvert_exporter": "python",
   "pygments_lexer": "ipython3",
   "version": "3.12.2"
  }
 },
 "nbformat": 4,
 "nbformat_minor": 2
}
